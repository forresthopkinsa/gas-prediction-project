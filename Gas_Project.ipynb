{
 "cells": [
  {
   "cell_type": "code",
   "execution_count": 5,
   "metadata": {},
   "outputs": [],
   "source": [
    "\n",
    "import matplotlib.pyplot as plt\n",
    "import numpy as np\n",
    "from scipy.linalg import cholesky, solve_triangular, cho_solve, cho_factor\n",
    "from scipy.linalg import solve\n",
    "from scipy.optimize import minimize\n",
    "import pandas as pd"
   ]
  },
  {
   "cell_type": "code",
   "execution_count": 71,
   "metadata": {},
   "outputs": [
    {
     "data": {
      "image/png": "[encoded data removed]",
      "text/plain": [
       "<Figure size 720x360 with 1 Axes>"
      ]
     },
     "metadata": {
      "needs_background": "light"
     },
     "output_type": "display_data"
    }
   ],
   "source": [
    "# Migrating the data from https://www.fuelly.com/car/ford/explorer/2010 and creating the dataframe.\n",
    "\n",
    "##Below is data for both the 4.0 and 4.6 motors.\n",
    "\n",
    "\n",
    "data_both = {'8' : 67, '9': 66 , '10':85 , '11' : 123 , '12' : 224 , '13': 387 ,'14' : 529 , '15': 682, '16' : 772 ,'17' : 725, '18' : 528, \n",
    "        '19' : 243, '20' : 125, '21': 63 , '22' : 43, '23' : 24, '24' : 19}\n",
    "\n",
    "\n",
    "#Keying values for the graph\n",
    "classofMPGboth =list(data_both.keys())\n",
    "occurencesboth = list(data_both.values())\n",
    "figboth = plt.figure(figsize = (10, 5))\n",
    " \n",
    "# creating the bar plot and adding labels\n",
    "plt.bar(classofMPGboth, occurencesboth, color ='maroon',\n",
    "        width = .96)\n",
    "plt.xlabel(\"MPG\")\n",
    "plt.ylabel(\"Occurences\")\n",
    "plt.title(\"MPG Fuel Up Occurences of a 2010 Ford Explorer (Both Motors)\")\n",
    "plt.show()\n",
    "\n",
    " "
   ]
  },
  {
   "cell_type": "code",
   "execution_count": 73,
   "metadata": {},
   "outputs": [
    {
     "data": {
      "image/png": "[encoded data removed]",
      "text/plain": [
       "<Figure size 720x360 with 1 Axes>"
      ]
     },
     "metadata": {
      "needs_background": "light"
     },
     "output_type": "display_data"
    }
   ],
   "source": [
    "# Migrating the data from https://www.fuelly.com/car/ford/explorer/2010 and creating the dataframe.\n",
    "\n",
    "##Below is data unique entirely to the 4.0 SOHC Motor Series\n",
    "\n",
    "data_40 = {'11' : 42, '12': 137 , '13':245 , '14' : 336 , '15' : 471 , '16': 540 ,'17' : 550 ,'18' : 421,'19' : 187\n",
    ",'20' : 99 ,'21' : 43 ,'22' : 32 }\n",
    "\n",
    "\n",
    "#Keying values for the graph\n",
    "classofMPG40 =list(data_40.keys())\n",
    "occurences40 = list(data_40.values())\n",
    "fig40 = plt.figure(figsize = (10, 5))\n",
    " \n",
    "# creating the bar plot and adding labels\n",
    "plt.bar(classofMPG40, occurences40, color ='maroon',\n",
    "        width = 0.97)\n",
    "plt.xlabel(\"MPG\")\n",
    "plt.ylabel(\"Occurences\")\n",
    "plt.title(\"MPG Fuel Up Occurences of a 2010 Ford Explorer (4.0 Motor)\")\n",
    "plt.show()"
   ]
  },
  {
   "cell_type": "code",
   "execution_count": 53,
   "metadata": {},
   "outputs": [
    {
     "name": "stdout",
     "output_type": "stream",
     "text": [
      "Please enter your total trip distance, price per gallon, mean MPG, StdError.\n",
      "Total cost is between : [$7.61 , $13.19] with a mean cost of $9.65.\n"
     ]
    }
   ],
   "source": [
    "## Confidence Interval 95% around MPG Function\n",
    "## T-Stat is 1.96 for df = 4707 & 3103\n",
    "\n",
    "MeanMPG_for_Both = 15.57692308\n",
    "StdError_for_Both = 2.736781173\n",
    "MeanMPG_for_40 = 16.04384268\n",
    "StdError_for_40 = 2.197930147\n",
    "t_stat = 1.96\n",
    "\n",
    "\n",
    "print(\"Please enter your total trip distance, price per gallon, mean MPG, StdError.\")\n",
    "def gas_cost(distance, CostperGallon,MeanMPG, StdError): \n",
    "\n",
    "   cost = (round(CostperGallon *  (distance / MeanMPG),2))\n",
    "   cost = str(cost)\n",
    "\n",
    "   UB_cost = (CostperGallon *  (distance / (MeanMPG + ( StdError * t_stat))))\n",
    "   UB_cost = round(UB_cost,2)\n",
    "   UB_cost = str(UB_cost) \n",
    "\n",
    "   LB_cost = (CostperGallon *  (distance / (MeanMPG - ( StdError * t_stat))))\n",
    "   LB_cost = round(LB_cost,2)\n",
    "   LB_cost = str(LB_cost) \n",
    "\n",
    "\n",
    "   print(\"Total cost is between : [$\" + UB_cost + \" , $\" + LB_cost + \"] with a mean cost of $\" + cost + \".\") \n",
    "\n",
    "## Input Parameters\n",
    "distance = float(input())\n",
    "CostperGallon = float(input())\n",
    "MeanMPG = float(input())\n",
    "StdError = float(input())\n",
    "\n",
    "gas_cost(distance,CostperGallon,MeanMPG, StdError)\n",
    "\n"
   ]
  },
  {
   "cell_type": "code",
   "execution_count": 91,
   "metadata": {},
   "outputs": [
    {
     "name": "stdout",
     "output_type": "stream",
     "text": [
      "Please enter your total trip distance and price per gallon IF you are driving a 2010 Ford Explorer with a 4.0 motor.\n",
      "Total cost is between : [$7.61 , $13.19] with a mean cost of $9.65.\n"
     ]
    }
   ],
   "source": [
    "#Cost Utilizing data standard error and mean\n",
    "print(\"Please enter your total trip distance and price per gallon IF you are driving a 2010 Ford Explorer with a 4.0 motor.\")\n",
    "\n",
    "MeanMPG_for_40 = 16.04384268\n",
    "StdError_for_40 = 2.197930147\n",
    "\n",
    "distance = float(input())\n",
    "CostperGallon = float(input())\n",
    "MeanMPG = 16.04384268\n",
    "StdError = 2.197930147\n",
    "\n",
    "gas_cost(distance,CostperGallon,MeanMPG, StdError)"
   ]
  },
  {
   "cell_type": "code",
   "execution_count": null,
   "metadata": {},
   "outputs": [],
   "source": []
  }
 ],
 "metadata": {
  "interpreter": {
   "hash": "aee8b7b246df8f9039afb4144a1f6fd8d2ca17a180786b69acc140d282b71a49"
  },
  "kernelspec": {
   "display_name": "Python 3.8.0 64-bit",
   "language": "python",
   "name": "python3"
  },
  "language_info": {
   "codemirror_mode": {
    "name": "ipython",
    "version": 3
   },
   "file_extension": ".py",
   "mimetype": "text/x-python",
   "name": "python",
   "nbconvert_exporter": "python",
   "pygments_lexer": "ipython3",
   "version": "3.8.0"
  },
  "orig_nbformat": 4
 },
 "nbformat": 4,
 "nbformat_minor": 2
}
